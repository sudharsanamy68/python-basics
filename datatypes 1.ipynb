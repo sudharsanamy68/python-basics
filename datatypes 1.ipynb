{
 "cells": [
  {
   "cell_type": "markdown",
   "id": "2691b8fe-2e84-4d34-9ce0-61c83e2117ab",
   "metadata": {},
   "source": [
    "### data types\n",
    "# text type- \"str\"\n",
    "# numeric data types- \"int,float ,complex\"\n",
    "# sequence types- \"list,tuple,range\"\n",
    "# mapping types- \"dict\"\n",
    "# set types- \"set, frozen set\"\n",
    "# boolean types- \"bool\"\n",
    "# binary types- \"bytes,bytearry,memoryview\"\n",
    "# none types- \"nonetype\"\n"
   ]
  },
  {
   "cell_type": "markdown",
   "id": "9c352f63-6c6e-4945-8017-c76f0079e0aa",
   "metadata": {},
   "source": [
    "## text data types:"
   ]
  },
  {
   "cell_type": "code",
   "execution_count": 20,
   "id": "9d4e1074-0faf-4aa6-a352-fe8e5ee8b13b",
   "metadata": {},
   "outputs": [
    {
     "name": "stdout",
     "output_type": "stream",
     "text": [
      "<class 'str'>\n",
      "<class 'str'>\n"
     ]
    }
   ],
   "source": [
    "x= \"text\"\n",
    "print(type(x))\n",
    "a=str(\"text\")#setting the specific data types\n",
    "print (type(a))"
   ]
  },
  {
   "cell_type": "markdown",
   "id": "48990f05-7dcc-401e-8eef-b91a93a99708",
   "metadata": {},
   "source": [
    "## numeric types"
   ]
  },
  {
   "cell_type": "code",
   "execution_count": 6,
   "id": "90504644-1c6a-4fb5-a19a-ce9c0605ab59",
   "metadata": {},
   "outputs": [
    {
     "name": "stdout",
     "output_type": "stream",
     "text": [
      "<class 'int'> <class 'int'>\n"
     ]
    }
   ],
   "source": [
    "b=20\n",
    "c=int(20)#setting specific data types\n",
    "print(type(b),type(c))"
   ]
  },
  {
   "cell_type": "code",
   "execution_count": 19,
   "id": "3e639111-8edd-4e73-849d-809188ebb735",
   "metadata": {},
   "outputs": [
    {
     "name": "stdout",
     "output_type": "stream",
     "text": [
      "<class 'float'> <class 'int'> <class 'float'> <class 'complex'> <class 'complex'>\n"
     ]
    }
   ],
   "source": [
    "a=44.85\n",
    "b=77\n",
    "c=float(1.1)\n",
    "d= 3j\n",
    "e= complex (4j)\n",
    "print (type(a),type(b),type(c),type(d),type(e))"
   ]
  },
  {
   "cell_type": "markdown",
   "id": "15350ab7-b895-44fb-ab0d-2ea760712465",
   "metadata": {},
   "source": [
    "## sequence types:"
   ]
  },
  {
   "cell_type": "code",
   "execution_count": 29,
   "id": "4b10fc6e-bdfe-4c8f-b036-50089e199020",
   "metadata": {},
   "outputs": [
    {
     "name": "stdout",
     "output_type": "stream",
     "text": [
      "<class 'list'> <class 'list'> <class 'tuple'> <class 'tuple'> (0, 8) <class 'tuple'>\n"
     ]
    }
   ],
   "source": [
    "l=[\"jaguar\",\"mustang\",\"bugatti\"]\n",
    "m=list((\"jaguar\",\"mustang\",\"bugatti\"))\n",
    "o= (\"ducati\",\"bmw\",\"royalenfield\",\"splender\")\n",
    "p=tuple((\"ducati\",\"bmw\",\"royalenfield\",\"splender\"))\n",
    "range= (0,8)\n",
    "print (type(l),type(m),type(o),type(p),(range),type(range))"
   ]
  },
  {
   "cell_type": "markdown",
   "id": "d3d1d55c-f2d2-42f6-b1a9-8c1daf5eae04",
   "metadata": {},
   "source": [
    "## dictionary data types"
   ]
  },
  {
   "cell_type": "markdown",
   "id": "8dc9d133-0938-40f3-b8f3-5aa8a56206a6",
   "metadata": {},
   "source": [
    "# As a dictionary, keeps the elements in key-value mapping format and internally uses hashing for it; therefore, we can get a value from the dictionary by its key very quickly. In best cases, its complexity is O(1), whereas, in the worst case, its complexity can be O(n)."
   ]
  },
  {
   "cell_type": "code",
   "execution_count": 47,
   "id": "2193856c-49a3-4964-a6f7-24f20044ae59",
   "metadata": {},
   "outputs": [
    {
     "name": "stdout",
     "output_type": "stream",
     "text": [
      "{'jobin': 22, 'sabarivasan': 24, 'madhu': 25, 'thanigaivel': 23, 'sabarishini': 25, 'ragupathi': 22}\n",
      "age of student 25\n",
      "{1: ['arrrahman', 'music composer', 40], 2: ['kamalhassan', 'director', 73], 3: ['rajini', 'actor', 79], 4: ['vijayakanth', 'actor', 80]}\n",
      "{'jai': 24, 'geetha': 40}\n",
      "<class 'dict'>\n",
      "<class 'dict'>\n",
      "<class 'dict'>\n"
     ]
    }
   ],
   "source": [
    "dict={}\n",
    "student_na={\"jobin\":22, \"sabarivasan\":24, \"madhu\":25, \"thanigaivel\":23, \"sabarishini\":25, \"ragupathi\":22}\n",
    "     \n",
    "print (student_na)\n",
    "b= student_na[\"madhu\"]# access the item with key value\n",
    "print(\"age of student\",b)\n",
    "\n",
    "student_info={1:['arrrahman','music composer',40],\n",
    "             2:['kamalhassan','director',73],\n",
    "             3:['rajini','actor',79],\n",
    "             4:['vijayakanth','actor',80]}\n",
    "print (student_info)\n",
    "\n",
    "# dictionary with duplicate keys\n",
    "s_details={'jai':24,'geetha':40,'jai':24}\n",
    "print(s_details)\n",
    "print(type(student_info))\n",
    "print(type(s_details))\n",
    "print(type(student_na))\n",
    "\n",
    "\n",
    "\n"
   ]
  },
  {
   "cell_type": "markdown",
   "id": "9f4c4145-afb4-43c1-a6fe-62010ba8e5ff",
   "metadata": {},
   "source": [
    "## set data types"
   ]
  },
  {
   "cell_type": "markdown",
   "id": "58bdc03b-4745-4cd5-a49a-c3dcf7a95ab5",
   "metadata": {},
   "source": [
    "## A set is an unordered collection with no duplicate elements. Basic uses include membership testing and eliminating duplicate entries. Set objects also support mathematical operations like union, intersection, difference, and symmetric difference"
   ]
  },
  {
   "cell_type": "code",
   "execution_count": 56,
   "id": "27440dc7-a7e5-4d9c-9328-5299a3303ebc",
   "metadata": {},
   "outputs": [
    {
     "name": "stdout",
     "output_type": "stream",
     "text": [
      "{'ship', 'jet', 'bike', 'truck', 'car'}\n",
      "<class 'set'>\n"
     ]
    }
   ],
   "source": [
    "s=set((\"bike\",\"car\",\"truck\",\"ship\",\"jet\"))\n",
    "print(s)\n",
    "print(type(s))\n"
   ]
  },
  {
   "cell_type": "markdown",
   "id": "a7e4e504-7ca6-4e0b-aa2e-f8e718aed2a7",
   "metadata": {},
   "source": [
    "## frozen set"
   ]
  },
  {
   "cell_type": "markdown",
   "id": "7025cbf6-c623-4659-b3b8-af5aa151e574",
   "metadata": {},
   "source": [
    "## Frozen set is just an immutable version of a Python set object. While elements of a set can be modified at any time, elements of the frozen set remain the same after creation.Due to this, frozen sets can be used as keys in Dictionary or as elements of another set. But like sets, it is not ordered (the elements can be set at any index)."
   ]
  },
  {
   "cell_type": "code",
   "execution_count": 60,
   "id": "2faf1d20-7e16-4aa4-aa9d-fe90ddf8d84b",
   "metadata": {},
   "outputs": [
    {
     "name": "stdout",
     "output_type": "stream",
     "text": [
      "(frozenset({1, 2, 3, 4, 5, 6}), frozenset({6, 7, 8, 9, 10}))\n",
      "frozenset({1, 2, 3, 4, 5, 6, 7, 8, 9, 10})\n",
      "frozenset({6})\n",
      "frozenset({1, 2, 3, 4, 5})\n",
      "frozenset({1, 2, 3, 4, 5, 7, 8, 9, 10})\n",
      "<class 'frozenset'>\n"
     ]
    }
   ],
   "source": [
    "x= frozenset([1,2,3,4,5,6,])\n",
    "y= frozenset([6,7,8,9,10])\n",
    "c =x,y.copy()# to copy the in empty variable\n",
    "print(c)\n",
    "print(x.union(y))\n",
    "print(y.intersection(x))\n",
    "print(x.difference(y))\n",
    "print (y.symmetric_difference(x))\n",
    "print(type(x))"
   ]
  },
  {
   "cell_type": "code",
   "execution_count": 62,
   "id": "15697bfc-4506-4434-baf7-7ba10a54cd96",
   "metadata": {},
   "outputs": [
    {
     "name": "stdout",
     "output_type": "stream",
     "text": [
      "<class 'bool'>\n",
      "True\n"
     ]
    }
   ],
   "source": [
    "#boolean data types\n",
    "x=bool(\"abc\")\n",
    "print(type(x))\n",
    "print(x)"
   ]
  },
  {
   "cell_type": "code",
   "execution_count": 66,
   "id": "d4be654f-dd9a-43d3-8811-f842c9969af4",
   "metadata": {},
   "outputs": [
    {
     "name": "stdout",
     "output_type": "stream",
     "text": [
      "<class 'bytes'> <class 'bytearray'> <class 'memoryview'>\n",
      "b'\\x00\\x00\\x00\\x00\\x00' bytearray(b'\\x00\\x00\\x00\\x00') <memory at 0x0000020D0B2193C0>\n"
     ]
    }
   ],
   "source": [
    "## binary data types\n",
    "x=bytes(5)\n",
    "y=bytearray(4)\n",
    "z=memoryview(bytes(6))\n",
    "print(type(x),type(y),type(z))\n",
    "print(x,y,z)"
   ]
  }
 ],
 "metadata": {
  "kernelspec": {
   "display_name": "Python 3 (ipykernel)",
   "language": "python",
   "name": "python3"
  },
  "language_info": {
   "codemirror_mode": {
    "name": "ipython",
    "version": 3
   },
   "file_extension": ".py",
   "mimetype": "text/x-python",
   "name": "python",
   "nbconvert_exporter": "python",
   "pygments_lexer": "ipython3",
   "version": "3.12.1"
  }
 },
 "nbformat": 4,
 "nbformat_minor": 5
}
