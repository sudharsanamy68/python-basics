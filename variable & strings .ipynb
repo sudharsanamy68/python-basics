{
 "cells": [
  {
   "cell_type": "markdown",
   "id": "cdac41db-31c9-4ac2-870c-defd44600233",
   "metadata": {},
   "source": [
    "### variables\n",
    "## variables is a storage container\n",
    "## the container name is variable name "
   ]
  },
  {
   "cell_type": "code",
   "execution_count": 3,
   "id": "120b302c-99d9-43c2-9e42-83cd8d27062c",
   "metadata": {},
   "outputs": [
    {
     "name": "stdout",
     "output_type": "stream",
     "text": [
      "6\n"
     ]
    }
   ],
   "source": [
    "A= 2 #A,b is container name and 2,3 is a values that stored in container\n",
    "b= 3\n",
    "print(A*b)"
   ]
  },
  {
   "cell_type": "markdown",
   "id": "af23b3c9-b04e-40bd-9255-efd0ca40e629",
   "metadata": {},
   "source": [
    "## Datatypes\n",
    "## numbers=integers\n",
    "## letters=string"
   ]
  },
  {
   "cell_type": "code",
   "execution_count": 5,
   "id": "f6f6bec0-94dc-4767-aca9-e6ca127daa64",
   "metadata": {},
   "outputs": [
    {
     "name": "stdout",
     "output_type": "stream",
     "text": [
      "<class 'int'>\n",
      "<class 'str'>\n"
     ]
    }
   ],
   "source": [
    "a= 1 #1 is a integer\n",
    "b=(\"one\")#one is string\n",
    "print(type(a))\n",
    "print (type(b))"
   ]
  },
  {
   "cell_type": "markdown",
   "id": "91dc0061-dc47-4da1-8594-37fe9e7ab641",
   "metadata": {},
   "source": [
    "### operator:"
   ]
  },
  {
   "cell_type": "code",
   "execution_count": 6,
   "id": "f560fca7-e906-455f-9cdc-52c26ad61d4a",
   "metadata": {},
   "outputs": [
    {
     "name": "stdout",
     "output_type": "stream",
     "text": [
      "50\n",
      "-10\n",
      "600\n",
      "0.6666666666666666\n"
     ]
    }
   ],
   "source": [
    "A=20\n",
    "b=30\n",
    "print(A+b) # addition\n",
    "print(A-b) #subraction\n",
    "print(A*b)#multipication\n",
    "print(A/b)#divide"
   ]
  },
  {
   "cell_type": "markdown",
   "id": "3b570bd8-a78d-4f91-a008-401c5eb1298d",
   "metadata": {},
   "source": [
    "### casting:\n",
    "## int\n",
    "## input"
   ]
  },
  {
   "cell_type": "code",
   "execution_count": 20,
   "id": "bafebbd2-1548-4aba-a6f3-89c5c30cab24",
   "metadata": {},
   "outputs": [
    {
     "name": "stdout",
     "output_type": "stream",
     "text": [
      "(70, 30, 1000, 2.5)\n"
     ]
    },
    {
     "name": "stdin",
     "output_type": "stream",
     "text": [
      "? hello\n",
      "? world\n"
     ]
    },
    {
     "name": "stdout",
     "output_type": "stream",
     "text": [
      "helloworld\n"
     ]
    },
    {
     "name": "stdin",
     "output_type": "stream",
     "text": [
      "? 50\n",
      "? 20\n"
     ]
    },
    {
     "name": "stdout",
     "output_type": "stream",
     "text": [
      "(70, 30, 1000, 2.5)\n"
     ]
    }
   ],
   "source": [
    "#int\n",
    "A=int(\"50\")\n",
    "B= int(\"20\")\n",
    "c=(A+B),(A-B),(A*B),(A/B)\n",
    "print(c)\n",
    "\n",
    "#input\n",
    "A=input(\"?\")\n",
    "B= input(\"?\")\n",
    "c=(A+B)\n",
    "print(c)\n",
    "\n",
    "#int input\n",
    "A=int(input(\"?\"))\n",
    "B= int(input(\"?\"))\n",
    "c=(A+B),(A-B),(A*B),(A/B)\n",
    "print(c)"
   ]
  },
  {
   "cell_type": "code",
   "execution_count": 26,
   "id": "5acfe935-602e-4777-a20e-9e441ef1adfa",
   "metadata": {},
   "outputs": [
    {
     "name": "stdin",
     "output_type": "stream",
     "text": [
      "? john\n",
      "? 22\n"
     ]
    },
    {
     "name": "stdout",
     "output_type": "stream",
     "text": [
      "student name is: john\n",
      "student age is: 22\n"
     ]
    }
   ],
   "source": [
    "##eg:\n",
    "##get input student name and age and print\n",
    "sname=input(\"?\")\n",
    "sage=int(input(\"?\"))\n",
    "print(\"student name is:\",sname)\n",
    "print(\"student age is:\",sage)"
   ]
  },
  {
   "cell_type": "code",
   "execution_count": 1,
   "id": "70bac3da-4406-4dab-910a-685bdd59dbdc",
   "metadata": {},
   "outputs": [
    {
     "name": "stdout",
     "output_type": "stream",
     "text": [
      "24\n",
      "9\n",
      "1.0\n"
     ]
    }
   ],
   "source": [
    "a=2\n",
    "b=3\n",
    "c=4\n",
    "\n",
    "print(a*b*c)\n",
    "print(a+b+c)\n",
    "print (b-c/a)"
   ]
  },
  {
   "cell_type": "markdown",
   "id": "35259c73-c5f5-4d9c-b4ca-b87e3ce97a6b",
   "metadata": {},
   "source": [
    "##  strings\n"
   ]
  },
  {
   "cell_type": "code",
   "execution_count": 2,
   "id": "6f110302-7c89-455c-96eb-31901372273c",
   "metadata": {},
   "outputs": [
    {
     "name": "stdout",
     "output_type": "stream",
     "text": [
      "the string are anything inside the quotes is consider as a string\n"
     ]
    }
   ],
   "source": [
    "print (\"the string are anything inside the quotes is consider as a string\")"
   ]
  },
  {
   "cell_type": "code",
   "execution_count": 3,
   "id": "c97c99c1-8394-49b1-93bc-5e7be1ba1dfb",
   "metadata": {},
   "outputs": [
    {
     "name": "stdout",
     "output_type": "stream",
     "text": [
      "its in double quotes\n",
      "or in single quotes\n"
     ]
    }
   ],
   "source": [
    "print(\"its in double quotes\")\n",
    "print('or in single quotes')"
   ]
  },
  {
   "cell_type": "markdown",
   "id": "d2642443-2cb9-4402-baa4-e6ef69a85567",
   "metadata": {},
   "source": [
    "## how to know the type\n"
   ]
  },
  {
   "cell_type": "code",
   "execution_count": 4,
   "id": "c8d630e2-71f7-4da7-be76-79b761f5fd56",
   "metadata": {},
   "outputs": [
    {
     "name": "stdout",
     "output_type": "stream",
     "text": [
      "<class 'str'>\n",
      "<class 'str'>\n",
      "<class 'int'>\n"
     ]
    }
   ],
   "source": [
    "text_1 =(\"hi buddy\")\n",
    "text_2 =('nolan')\n",
    "text_3 = 4\n",
    "print(type(text_1))\n",
    "print(type(text_2))\n",
    "print(type(text_3))"
   ]
  },
  {
   "cell_type": "markdown",
   "id": "c5960ec3-8afe-4118-a232-54670eb5ca4a",
   "metadata": {},
   "source": [
    "## change the case in string\n",
    "*UPPER CASE\n",
    "*lower case"
   ]
  },
  {
   "cell_type": "code",
   "execution_count": 5,
   "id": "a69c3f14-fa33-4acb-b3f6-1b0d82ad693a",
   "metadata": {},
   "outputs": [
    {
     "name": "stdout",
     "output_type": "stream",
     "text": [
      "anna university\n"
     ]
    }
   ],
   "source": [
    "university = (\"anna university\")\n",
    "print (university)"
   ]
  },
  {
   "cell_type": "code",
   "execution_count": 9,
   "id": "6eac70a8-6b4e-44ef-8300-56b7f31b8de6",
   "metadata": {},
   "outputs": [
    {
     "name": "stdout",
     "output_type": "stream",
     "text": [
      "Anna University\n",
      "anna university\n"
     ]
    }
   ],
   "source": [
    "print (university.title()) #to print 1st letter as lowercase\n",
    "print (university.lower()) #to print full word as lowercase"
   ]
  },
  {
   "cell_type": "code",
   "execution_count": 13,
   "id": "65db1f2e-49e1-4dba-9f53-473ee25df27a",
   "metadata": {},
   "outputs": [
    {
     "name": "stdout",
     "output_type": "stream",
     "text": [
      "ANNA UNIVERSITY\n"
     ]
    }
   ],
   "source": [
    "print (university.upper())"
   ]
  },
  {
   "cell_type": "markdown",
   "id": "d16c5d6a-f0f7-48c0-9edf-86bfe8f6692f",
   "metadata": {},
   "source": [
    "## adding the strings"
   ]
  },
  {
   "cell_type": "code",
   "execution_count": 15,
   "id": "a50e0871-93fd-40a9-a46e-06fd9b10f631",
   "metadata": {},
   "outputs": [
    {
     "name": "stdout",
     "output_type": "stream",
     "text": [
      "buddy jobin\n"
     ]
    }
   ],
   "source": [
    "var_a = (\"buddy\")\n",
    "var_b = (\"jobin\")\n",
    "var_c = (var_a+\" \"+var_b)\n",
    "print(var_c)"
   ]
  },
  {
   "cell_type": "code",
   "execution_count": 17,
   "id": "ffe43b72-0f4b-435b-bfb0-c188eec4b485",
   "metadata": {},
   "outputs": [
    {
     "name": "stdout",
     "output_type": "stream",
     "text": [
      "hey buddy jobin\n"
     ]
    }
   ],
   "source": [
    "print(\"hey \"+ var_c)"
   ]
  },
  {
   "cell_type": "code",
   "execution_count": 19,
   "id": "9fbc778b-6110-43b8-ae7c-05abad83dfd7",
   "metadata": {},
   "outputs": [
    {
     "name": "stdout",
     "output_type": "stream",
     "text": [
      "hey Buddy Jobin\n",
      "HEY BUDDY JOBIN\n",
      "hey buddy jobin\n"
     ]
    }
   ],
   "source": [
    "print(\"hey \"+ var_c.title())\n",
    "print (\"HEY \"+ var_c.upper())\n",
    "print(\"hey \"+ var_c.lower())"
   ]
  },
  {
   "cell_type": "code",
   "execution_count": 24,
   "id": "6b750451-2f12-4629-b9aa-dcf717f86351",
   "metadata": {},
   "outputs": [
    {
     "name": "stdout",
     "output_type": "stream",
     "text": [
      "*\n",
      "\t *\n"
     ]
    }
   ],
   "source": [
    "print(\"*\") \n",
    "print (\"\\t *\")#adding white space"
   ]
  },
  {
   "cell_type": "code",
   "execution_count": 28,
   "id": "5dc96e89-99af-48a3-9b31-ad9a459265b8",
   "metadata": {},
   "outputs": [
    {
     "name": "stdout",
     "output_type": "stream",
     "text": [
      "* \n",
      "\t*\n",
      "\t*\n",
      "\t*\n",
      "\t*\n"
     ]
    }
   ],
   "source": [
    "print(\"* \\n\\t*\\n\\t*\\n\\t*\\n\\t*\")"
   ]
  },
  {
   "cell_type": "code",
   "execution_count": 1,
   "id": "19772586-512e-4391-b6f3-a194f51ccdc8",
   "metadata": {},
   "outputs": [
    {
     "name": "stdout",
     "output_type": "stream",
     "text": [
      "6\n"
     ]
    }
   ],
   "source": [
    "#get string length\n",
    "a= \"python\"\n",
    "print(len(a))"
   ]
  },
  {
   "cell_type": "code",
   "execution_count": 4,
   "id": "a91ac9d4-84ce-45c5-b113-5eeb6e906a66",
   "metadata": {},
   "outputs": [
    {
     "name": "stdout",
     "output_type": "stream",
     "text": [
      "True\n",
      "False\n"
     ]
    }
   ],
   "source": [
    "#to check character present in strings\n",
    "a= \"my name is sabarivasan \"\n",
    "print(\"name\"in a)\n",
    "print(\"hd\"in a)\n"
   ]
  },
  {
   "cell_type": "code",
   "execution_count": 7,
   "id": "c925e7b8-c8db-499d-b1b7-e491bf40763d",
   "metadata": {},
   "outputs": [
    {
     "name": "stdout",
     "output_type": "stream",
     "text": [
      "true\n"
     ]
    }
   ],
   "source": [
    "# if statement to check character prsesent in strings\n",
    "a= \"my name is jobin mark this my friend sabarivasan\"\n",
    "if \"jobin\"in a:\n",
    "    print(\"true\")\n",
    "else:\n",
    "     print(\"no\")"
   ]
  },
  {
   "cell_type": "code",
   "execution_count": 8,
   "id": "0d38b8cb-af90-4440-97cc-238013352100",
   "metadata": {},
   "outputs": [
    {
     "name": "stdout",
     "output_type": "stream",
     "text": [
      "no\n"
     ]
    }
   ],
   "source": [
    "# the character not present in strings(key words-not in)\n",
    "a= \"my name is jobin mark this my friend sabarivasan\"\n",
    "if \"kks\"in a:\n",
    "    print(\"true\")\n",
    "else:\n",
    "     print(\"no\")"
   ]
  },
  {
   "cell_type": "markdown",
   "id": "a414ce1b-d4cc-45c6-9d6b-7cfb1bca487c",
   "metadata": {},
   "source": [
    "## slicing"
   ]
  },
  {
   "cell_type": "code",
   "execution_count": 28,
   "id": "7c0a75f4-1f24-46c7-840a-2ca741dd7114",
   "metadata": {},
   "outputs": [
    {
     "name": "stdout",
     "output_type": "stream",
     "text": [
      "hipho\n",
      "phop,thamizha\n",
      "hipho\n",
      "hiphop,thamizha\n",
      "15\n"
     ]
    }
   ],
   "source": [
    "# slicing the strings by the index\n",
    "a= \"hiphop,thamizha\"\n",
    "print (a[0:5])#012345\n",
    "print (a[2:])#2-15\n",
    "print (a[:5])#0-5\n",
    "print (a[:])#0-15\n",
    "print (len(a))#length of the string"
   ]
  },
  {
   "cell_type": "markdown",
   "id": "b7182777-4dd3-4265-b471-224c52d82bea",
   "metadata": {},
   "source": [
    "## changing the or modify the strings"
   ]
  },
  {
   "cell_type": "code",
   "execution_count": 27,
   "id": "8d244988-67e9-4d3c-8bb8-a5360bc1cce1",
   "metadata": {},
   "outputs": [
    {
     "name": "stdout",
     "output_type": "stream",
     "text": [
      "JOBIN MARK\n",
      "sabarivasan\n",
      "jobin mark\n",
      "madhumitha\n",
      "['thanigai', 'vel']\n"
     ]
    }
   ],
   "source": [
    "# upper case\n",
    "a=\"jobin mark\"\n",
    "b=\"SABARIVASAN\"\n",
    "c = \"thanigai:vel\"\n",
    "print(a.upper())\n",
    "print(b.lower())\n",
    "print(a.strip())# to remove \"white space\"(keyword-variable.strip()) it is the space are occur in beforce and after in actual txt.\n",
    "print(b.replace(\"SABARIVASAN\",\"madhumitha\"))# to replace (key word-var.replace(\"\",\"\"))the char in strings.\n",
    "print(c.split(\":\"))#to split the strings by the space present in strings."
   ]
  },
  {
   "cell_type": "markdown",
   "id": "9837b2d5-d4e5-42a3-883a-0282cd33c619",
   "metadata": {},
   "source": [
    "## string format\n",
    "# we cannot combine the string and mumber like this:"
   ]
  },
  {
   "cell_type": "code",
   "execution_count": 35,
   "id": "ab46dd05-9a65-4178-aaa3-5844e69ca9e6",
   "metadata": {},
   "outputs": [
    {
     "ename": "TypeError",
     "evalue": "can only concatenate str (not \"int\") to str",
     "output_type": "error",
     "traceback": [
      "\u001b[1;31m---------------------------------------------------------------------------\u001b[0m",
      "\u001b[1;31mTypeError\u001b[0m                                 Traceback (most recent call last)",
      "Cell \u001b[1;32mIn[35], line 2\u001b[0m\n\u001b[0;32m      1\u001b[0m year\u001b[38;5;241m=\u001b[39m\u001b[38;5;241m1978\u001b[39m \n\u001b[1;32m----> 2\u001b[0m name\u001b[38;5;241m=\u001b[39m\u001b[38;5;124;43m\"\u001b[39;49m\u001b[38;5;124;43manna university since\u001b[39;49m\u001b[38;5;124;43m\"\u001b[39;49m\u001b[38;5;241;43m+\u001b[39;49m\u001b[43myear\u001b[49m\n\u001b[0;32m      3\u001b[0m \u001b[38;5;28mprint\u001b[39m(name)\n",
      "\u001b[1;31mTypeError\u001b[0m: can only concatenate str (not \"int\") to str"
     ]
    }
   ],
   "source": [
    "year=1978 \n",
    "name=\"anna university since\"+year\n",
    "print(name) ## the error occurs"
   ]
  },
  {
   "cell_type": "code",
   "execution_count": null,
   "id": "7179cd91-4443-4208-b9cb-f120e9617bd7",
   "metadata": {},
   "outputs": [],
   "source": [
    "name=\"anna university since\"\n",
    "year=\" 1978\" #concatenation two strings\n",
    "print(name + year)"
   ]
  },
  {
   "cell_type": "code",
   "execution_count": 36,
   "id": "78c124cc-26f3-4dd5-98d5-b06a6a9a515d",
   "metadata": {},
   "outputs": [
    {
     "name": "stdout",
     "output_type": "stream",
     "text": [
      "anna university since 1978\n"
     ]
    }
   ],
   "source": [
    "# its formatting a strings to put f before the strings add curly brackets{}\n",
    "name =f\"anna university since {year}\"\n",
    "year =1978\n",
    "print(name)"
   ]
  },
  {
   "cell_type": "code",
   "execution_count": 39,
   "id": "7db0f5e4-c146-47c6-86f3-ab5e1d4db2b5",
   "metadata": {},
   "outputs": [
    {
     "name": "stdout",
     "output_type": "stream",
     "text": [
      "anna university since 1978 and is named after C. N. Annadurai \n"
     ]
    }
   ],
   "source": [
    "## placeholders and modifiers\n",
    "## add place holder for year in variable-name\n",
    "name =f\"anna university since {year} and is named after C. N. Annadurai \"\n",
    "year= 1978\n",
    "print(name)"
   ]
  },
  {
   "cell_type": "code",
   "execution_count": 40,
   "id": "e0f2cc60-49e6-4f37-97f2-d31502acfba9",
   "metadata": {},
   "outputs": [
    {
     "name": "stdout",
     "output_type": "stream",
     "text": [
      "anna university since 1978.000000 and is named after C. N. Annadurai \n"
     ]
    }
   ],
   "source": [
    "## the year in decimal\n",
    "name =f\"anna university since {year:3f} and is named after C. N. Annadurai \"\n",
    "year= 1978\n",
    "print(name)"
   ]
  },
  {
   "cell_type": "code",
   "execution_count": 41,
   "id": "37bfb35e-f1fa-40e5-bda0-bbe1cbf692cc",
   "metadata": {},
   "outputs": [
    {
     "name": "stdout",
     "output_type": "stream",
     "text": [
      "anna university since 3956 and is named after C. N. Annadurai \n"
     ]
    }
   ],
   "source": [
    "## use maths operation in place holder\n",
    "name =f\"anna university since {year* 2} and is named after C. N. Annadurai \"\n",
    "year= 1978\n",
    "print(name)"
   ]
  },
  {
   "cell_type": "code",
   "execution_count": null,
   "id": "6ad16098-fe9c-4d5a-bf4b-0d99dae9053b",
   "metadata": {},
   "outputs": [],
   "source": []
  },
  {
   "cell_type": "code",
   "execution_count": null,
   "id": "c9d1672b-1e20-4629-974d-df154571ccad",
   "metadata": {},
   "outputs": [],
   "source": []
  },
  {
   "cell_type": "code",
   "execution_count": null,
   "id": "ad722ab8-91b1-43c2-8d0c-42aa940206b6",
   "metadata": {},
   "outputs": [],
   "source": []
  },
  {
   "cell_type": "code",
   "execution_count": null,
   "id": "1d13882a-78ad-464b-94ae-2cc8046de0d2",
   "metadata": {},
   "outputs": [],
   "source": []
  },
  {
   "cell_type": "code",
   "execution_count": null,
   "id": "0f37e753-b8da-4a65-8f7a-cec8ae0ec909",
   "metadata": {},
   "outputs": [],
   "source": []
  },
  {
   "cell_type": "code",
   "execution_count": null,
   "id": "0fc311a8-5a7f-4503-bf4b-924ce08e3aa5",
   "metadata": {},
   "outputs": [],
   "source": []
  },
  {
   "cell_type": "code",
   "execution_count": null,
   "id": "60adac49-c147-48b3-b109-85fa0058f215",
   "metadata": {},
   "outputs": [],
   "source": []
  },
  {
   "cell_type": "code",
   "execution_count": null,
   "id": "1aab0a5b-cf66-43c9-880e-f254c1744208",
   "metadata": {},
   "outputs": [],
   "source": []
  }
 ],
 "metadata": {
  "kernelspec": {
   "display_name": "Python 3 (ipykernel)",
   "language": "python",
   "name": "python3"
  },
  "language_info": {
   "codemirror_mode": {
    "name": "ipython",
    "version": 3
   },
   "file_extension": ".py",
   "mimetype": "text/x-python",
   "name": "python",
   "nbconvert_exporter": "python",
   "pygments_lexer": "ipython3",
   "version": "3.12.1"
  }
 },
 "nbformat": 4,
 "nbformat_minor": 5
}
